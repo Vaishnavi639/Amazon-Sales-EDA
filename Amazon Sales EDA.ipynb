{
 "cells": [
  {
   "cell_type": "markdown",
   "id": "2fbab9b6",
   "metadata": {},
   "source": [
    "# Amazon Sales Dataset"
   ]
  },
  {
   "cell_type": "markdown",
   "id": "cf786131",
   "metadata": {},
   "source": [
    "Importing necessary libraries"
   ]
  },
  {
   "cell_type": "code",
   "execution_count": 1,
   "id": "3539e88b",
   "metadata": {},
   "outputs": [],
   "source": [
    "import pandas as pd\n",
    "import numpy as np\n",
    "import matplotlib.pyplot as plt\n",
    "import seaborn as sb\n",
    "import warnings\n",
    "warnings.filterwarnings(\"ignore\")"
   ]
  },
  {
   "cell_type": "code",
   "execution_count": 7,
   "id": "d56e0b86",
   "metadata": {},
   "outputs": [],
   "source": [
    "data = pd.read_csv(\"C:/Users/VAISHANAVI/Downloads/Amazon 2_Raw.csv\")"
   ]
  },
  {
   "cell_type": "code",
   "execution_count": 9,
   "id": "cf7a06c3",
   "metadata": {},
   "outputs": [
    {
     "data": {
      "text/html": [
       "<div>\n",
       "<style scoped>\n",
       "    .dataframe tbody tr th:only-of-type {\n",
       "        vertical-align: middle;\n",
       "    }\n",
       "\n",
       "    .dataframe tbody tr th {\n",
       "        vertical-align: top;\n",
       "    }\n",
       "\n",
       "    .dataframe thead th {\n",
       "        text-align: right;\n",
       "    }\n",
       "</style>\n",
       "<table border=\"1\" class=\"dataframe\">\n",
       "  <thead>\n",
       "    <tr style=\"text-align: right;\">\n",
       "      <th></th>\n",
       "      <th>Order ID</th>\n",
       "      <th>Order Date</th>\n",
       "      <th>Ship Date</th>\n",
       "      <th>Status</th>\n",
       "      <th>Customer Name</th>\n",
       "      <th>EmailID</th>\n",
       "      <th>Geography</th>\n",
       "      <th>Country</th>\n",
       "      <th>City</th>\n",
       "      <th>State</th>\n",
       "      <th>Category</th>\n",
       "      <th>Product Name</th>\n",
       "      <th>Sales</th>\n",
       "      <th>Quantity</th>\n",
       "      <th>Profit</th>\n",
       "    </tr>\n",
       "  </thead>\n",
       "  <tbody>\n",
       "    <tr>\n",
       "      <th>0</th>\n",
       "      <td>CA-2013-138688</td>\n",
       "      <td>06/13/2013</td>\n",
       "      <td>06/17/2013</td>\n",
       "      <td>On time</td>\n",
       "      <td>DarrinVanHuff</td>\n",
       "      <td>DarrinVanHuff@gmail.com</td>\n",
       "      <td>United States,Los Angeles,California</td>\n",
       "      <td>United States</td>\n",
       "      <td>Los Angeles</td>\n",
       "      <td>California</td>\n",
       "      <td>Labels</td>\n",
       "      <td>Self-Adhesive Address Labels for Typewriters b...</td>\n",
       "      <td>14.620</td>\n",
       "      <td>2</td>\n",
       "      <td>6.8714</td>\n",
       "    </tr>\n",
       "    <tr>\n",
       "      <th>1</th>\n",
       "      <td>CA-2011-115812</td>\n",
       "      <td>06/09/2011</td>\n",
       "      <td>06/14/2011</td>\n",
       "      <td>Delay</td>\n",
       "      <td>BrosinaHoffman</td>\n",
       "      <td>BrosinaHoffman@gmail.com</td>\n",
       "      <td>United States,Los Angeles,California</td>\n",
       "      <td>United States</td>\n",
       "      <td>Los Angeles</td>\n",
       "      <td>California</td>\n",
       "      <td>Furnishings</td>\n",
       "      <td>Eldon Expressions Wood and Plastic Desk Access...</td>\n",
       "      <td>48.860</td>\n",
       "      <td>7</td>\n",
       "      <td>14.1694</td>\n",
       "    </tr>\n",
       "    <tr>\n",
       "      <th>2</th>\n",
       "      <td>CA-2011-115812</td>\n",
       "      <td>06/09/2011</td>\n",
       "      <td>06/14/2011</td>\n",
       "      <td>Delay</td>\n",
       "      <td>BrosinaHoffman</td>\n",
       "      <td>BrosinaHoffman@gmail.com</td>\n",
       "      <td>United States,Los Angeles,California</td>\n",
       "      <td>United States</td>\n",
       "      <td>Los Angeles</td>\n",
       "      <td>California</td>\n",
       "      <td>Art</td>\n",
       "      <td>Newell 322</td>\n",
       "      <td>7.280</td>\n",
       "      <td>4</td>\n",
       "      <td>1.9656</td>\n",
       "    </tr>\n",
       "    <tr>\n",
       "      <th>3</th>\n",
       "      <td>CA-2011-115812</td>\n",
       "      <td>06/09/2011</td>\n",
       "      <td>06/14/2011</td>\n",
       "      <td>Delay</td>\n",
       "      <td>BrosinaHoffman</td>\n",
       "      <td>BrosinaHoffman@gmail.com</td>\n",
       "      <td>United States,Los Angeles,California</td>\n",
       "      <td>United States</td>\n",
       "      <td>Los Angeles</td>\n",
       "      <td>California</td>\n",
       "      <td>Phones</td>\n",
       "      <td>Mitel 5320 IP Phone VoIP phone</td>\n",
       "      <td>907.152</td>\n",
       "      <td>4</td>\n",
       "      <td>90.7152</td>\n",
       "    </tr>\n",
       "    <tr>\n",
       "      <th>4</th>\n",
       "      <td>CA-2011-115812</td>\n",
       "      <td>06/09/2011</td>\n",
       "      <td>06/14/2011</td>\n",
       "      <td>Delay</td>\n",
       "      <td>BrosinaHoffman</td>\n",
       "      <td>BrosinaHoffman@gmail.com</td>\n",
       "      <td>United States,Los Angeles,California</td>\n",
       "      <td>United States</td>\n",
       "      <td>Los Angeles</td>\n",
       "      <td>California</td>\n",
       "      <td>Binders</td>\n",
       "      <td>DXL Angle-View Binders with Locking Rings by S...</td>\n",
       "      <td>18.504</td>\n",
       "      <td>3</td>\n",
       "      <td>5.7825</td>\n",
       "    </tr>\n",
       "  </tbody>\n",
       "</table>\n",
       "</div>"
      ],
      "text/plain": [
       "         Order ID  Order Date   Ship Date   Status   Customer Name  \\\n",
       "0  CA-2013-138688  06/13/2013  06/17/2013  On time   DarrinVanHuff   \n",
       "1  CA-2011-115812  06/09/2011  06/14/2011    Delay  BrosinaHoffman   \n",
       "2  CA-2011-115812  06/09/2011  06/14/2011    Delay  BrosinaHoffman   \n",
       "3  CA-2011-115812  06/09/2011  06/14/2011    Delay  BrosinaHoffman   \n",
       "4  CA-2011-115812  06/09/2011  06/14/2011    Delay  BrosinaHoffman   \n",
       "\n",
       "                    EmailID                             Geography  \\\n",
       "0   DarrinVanHuff@gmail.com  United States,Los Angeles,California   \n",
       "1  BrosinaHoffman@gmail.com  United States,Los Angeles,California   \n",
       "2  BrosinaHoffman@gmail.com  United States,Los Angeles,California   \n",
       "3  BrosinaHoffman@gmail.com  United States,Los Angeles,California   \n",
       "4  BrosinaHoffman@gmail.com  United States,Los Angeles,California   \n",
       "\n",
       "        Country          City       State     Category  \\\n",
       "0  United States  Los Angeles  California       Labels   \n",
       "1  United States  Los Angeles  California  Furnishings   \n",
       "2  United States  Los Angeles  California          Art   \n",
       "3  United States  Los Angeles  California       Phones   \n",
       "4  United States  Los Angeles  California      Binders   \n",
       "\n",
       "                                        Product Name    Sales  Quantity  \\\n",
       "0  Self-Adhesive Address Labels for Typewriters b...   14.620         2   \n",
       "1  Eldon Expressions Wood and Plastic Desk Access...   48.860         7   \n",
       "2                                         Newell 322    7.280         4   \n",
       "3                     Mitel 5320 IP Phone VoIP phone  907.152         4   \n",
       "4  DXL Angle-View Binders with Locking Rings by S...   18.504         3   \n",
       "\n",
       "    Profit  \n",
       "0   6.8714  \n",
       "1  14.1694  \n",
       "2   1.9656  \n",
       "3  90.7152  \n",
       "4   5.7825  "
      ]
     },
     "execution_count": 9,
     "metadata": {},
     "output_type": "execute_result"
    }
   ],
   "source": [
    "data.head(5)"
   ]
  },
  {
   "cell_type": "markdown",
   "id": "5edb62c6",
   "metadata": {},
   "source": [
    "Data Cleaning"
   ]
  },
  {
   "cell_type": "code",
   "execution_count": 10,
   "id": "9a56b896",
   "metadata": {},
   "outputs": [
    {
     "name": "stdout",
     "output_type": "stream",
     "text": [
      "Missing Values:\n",
      "Order ID         0\n",
      "Order Date       0\n",
      "Ship Date        0\n",
      "Status           0\n",
      "Customer Name    0\n",
      "EmailID          0\n",
      "Geography        0\n",
      "Country          0\n",
      "City             0\n",
      "State            0\n",
      "Category         0\n",
      "Product Name     0\n",
      "Sales            0\n",
      "Quantity         0\n",
      "Profit           0\n",
      "dtype: int64\n"
     ]
    }
   ],
   "source": [
    "print(\"Missing Values:\")\n",
    "print(data.isnull().sum())"
   ]
  },
  {
   "cell_type": "markdown",
   "id": "acc76a97",
   "metadata": {},
   "source": [
    "Descriptive Statistics"
   ]
  },
  {
   "cell_type": "code",
   "execution_count": 11,
   "id": "8f9cb3fa",
   "metadata": {},
   "outputs": [
    {
     "name": "stdout",
     "output_type": "stream",
     "text": [
      "\n",
      "Summary Statistics:\n",
      "              Sales     Quantity       Profit\n",
      "count   3203.000000  3203.000000  3203.000000\n",
      "mean     226.493233     3.828910    33.849032\n",
      "std      524.876877     2.260947   174.109081\n",
      "min        0.990000     1.000000 -3399.980000\n",
      "25%       19.440000     2.000000     3.852000\n",
      "50%       60.840000     3.000000    11.166400\n",
      "75%      215.809000     5.000000    33.000400\n",
      "max    13999.960000    14.000000  6719.980800\n"
     ]
    }
   ],
   "source": [
    "print(\"\\nSummary Statistics:\")\n",
    "print(data.describe())"
   ]
  },
  {
   "cell_type": "code",
   "execution_count": 12,
   "id": "f967d2dd",
   "metadata": {},
   "outputs": [
    {
     "name": "stdout",
     "output_type": "stream",
     "text": [
      "             Sales  Quantity    Profit\n",
      "Sales     1.000000  0.214665  0.647477\n",
      "Quantity  0.214665  1.000000  0.093240\n",
      "Profit    0.647477  0.093240  1.000000\n"
     ]
    }
   ],
   "source": [
    "num_data=data.select_dtypes(include=[np.number])\n",
    "print(num_data.corr())"
   ]
  },
  {
   "cell_type": "markdown",
   "id": "08f9fb7a",
   "metadata": {},
   "source": [
    "Data Visualization"
   ]
  },
  {
   "cell_type": "code",
   "execution_count": 13,
   "id": "cb21e925",
   "metadata": {},
   "outputs": [
    {
     "data": {
      "image/png": "[encoded data removed]",
      "text/plain": [
       "<Figure size 600x400 with 1 Axes>"
      ]
     },
     "metadata": {},
     "output_type": "display_data"
    }
   ],
   "source": [
    "plt.figure(figsize=(6, 4))\n",
    "plt.hist(data['Sales'], bins=20, color='skyblue', edgecolor='black')\n",
    "plt.title('Distribution of Sales')\n",
    "plt.xlabel('Sales')\n",
    "plt.ylabel('Frequency')\n",
    "plt.show()"
   ]
  },
  {
   "cell_type": "code",
   "execution_count": 15,
   "id": "ee1ad14b",
   "metadata": {},
   "outputs": [
    {
     "data": {
      "image/png": "[encoded data removed]",
      "text/plain": [
       "<Figure size 500x300 with 1 Axes>"
      ]
     },
     "metadata": {},
     "output_type": "display_data"
    }
   ],
   "source": [
    "plt.figure(figsize=(5, 3))\n",
    "plt.scatter(data['Sales'], data['Profit'], color='green', alpha=0.5)\n",
    "plt.title('Sales vs. Profit')\n",
    "plt.xlabel('Sales')\n",
    "plt.ylabel('Profit')\n",
    "plt.show()"
   ]
  },
  {
   "cell_type": "code",
   "execution_count": 16,
   "id": "759e3ea5",
   "metadata": {},
   "outputs": [
    {
     "data": {
      "image/png": "[encoded data removed]",
      "text/plain": [
       "<Figure size 600x400 with 1 Axes>"
      ]
     },
     "metadata": {},
     "output_type": "display_data"
    }
   ],
   "source": [
    "plt.figure(figsize=(6, 4))\n",
    "plt.boxplot(data['Profit'])\n",
    "plt.title('Profit Distribution')\n",
    "plt.ylabel('Profit')\n",
    "plt.show()"
   ]
  },
  {
   "cell_type": "code",
   "execution_count": null,
   "id": "021eaf5d",
   "metadata": {},
   "outputs": [],
   "source": []
  }
 ],
 "metadata": {
  "kernelspec": {
   "display_name": "Python 3 (ipykernel)",
   "language": "python",
   "name": "python3"
  },
  "language_info": {
   "codemirror_mode": {
    "name": "ipython",
    "version": 3
   },
   "file_extension": ".py",
   "mimetype": "text/x-python",
   "name": "python",
   "nbconvert_exporter": "python",
   "pygments_lexer": "ipython3",
   "version": "3.11.4"
  }
 },
 "nbformat": 4,
 "nbformat_minor": 5
}
